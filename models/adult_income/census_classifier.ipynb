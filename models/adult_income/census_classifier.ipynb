{
  "cells": [
    {
      "cell_type": "markdown",
      "metadata": {
        "id": "derFdWPH_zNa"
      },
      "source": [
        "# US Census Classifier to Predict Salary - Michael\n",
        "First, we are going to import the data from adult.csv, that includes 15 columns of data. Then, we set the column names to the data as they previously were not set. \n",
        "\n",
        "Train = Training Data and \n",
        "Test = Test Data\n",
        "\n",
        "\n"
      ]
    },
    {
      "cell_type": "code",
      "execution_count": 79,
      "metadata": {
        "id": "HGUCJMk0-sCL"
      },
      "outputs": [],
      "source": [
        "import pandas as pd \n",
        "import seaborn as sns\n",
        "import sklearn\n",
        "import numpy as np\n",
        "\n",
        "data = pd.read_csv('../../data/adult.csv')\n",
        "\n",
        "split = int(np.ceil(len(data) * .8))\n",
        "\n",
        "train = data.iloc[:split,:].copy()\n",
        "test = data.iloc[split:,:].copy()\n",
        "\n",
        "\n",
        "train.columns = [\"age\", \"workclass\", \"fnlwgt\", \"education\", \"education-num\", \n",
        "                 \"marital-status\", \"occupation\", \"relationship\", \"race\", \"sex\", \n",
        "                 \"capital-gain\", \"capital-loss\", \"hours-per-week\", \"native-country\", \"income\"]\n",
        "\n",
        "test.columns = [\"age\", \"workclass\", \"fnlwgt\", \"education\", \"education-num\", \n",
        "                 \"marital-status\", \"occupation\", \"relationship\", \"race\", \"sex\", \n",
        "                 \"capital-gain\", \"capital-loss\", \"hours-per-week\", \"native-country\", \"income\"]\n"
      ]
    },
    {
      "cell_type": "markdown",
      "metadata": {
        "id": "UtQAll5o_uhs"
      },
      "source": [
        "# Begin Pre-Processing\n",
        "As we notice there are some values in the data with \"?\", so we must replace these in order to train our model correctly. We are just going to use the most frequent values. Then we are going to check the skewness of the data before any transformation. \n"
      ]
    },
    {
      "cell_type": "code",
      "execution_count": 80,
      "metadata": {
        "colab": {
          "base_uri": "https://localhost:8080/"
        },
        "id": "4tFvz1t3__7u",
        "outputId": "a3089719-9beb-44dc-a406-a21b4c8daf56"
      },
      "outputs": [
        {
          "name": "stdout",
          "output_type": "stream",
          "text": [
            "age               0.567076\n",
            "fnlwgt            1.445698\n",
            "education-num    -0.311052\n",
            "hours-per-week    0.227463\n",
            "dtype: float64\n",
            "age               0.518113\n",
            "fnlwgt            1.412366\n",
            "education-num    -0.336920\n",
            "hours-per-week    0.282131\n",
            "dtype: float64\n"
          ]
        }
      ],
      "source": [
        "\n",
        "train = train.dropna()\n",
        "test = test.dropna()\n",
        "\n",
        "# replace missing values in the train set\n",
        "train.loc[train[\"workclass\"] == \"?\", \"workclass\"] = \"Private\"\n",
        "train.loc[train[\"occupation\"] == \"?\", \"occupation\"] = \"Prof-speciality\"\n",
        "train.loc[train[\"native-country\"] == \"?\", \"native-country\"] = \"United-States\"\n",
        "\n",
        "# replace missing values in the test set\n",
        "test.loc[test[\"workclass\"] == \"?\", \"workclass\"] = \"Private\"\n",
        "test.loc[test[\"occupation\"] == \"?\", \"occupation\"] = \"Prof-speciality\"\n",
        "test.loc[test[\"native-country\"] == \"?\", \"native-country\"] = \"United-States\"\n",
        "\n",
        "\n",
        "test = test.drop(columns=[\"capital-gain\"])\n",
        "test = test.drop(columns=[\"capital-loss\"])\n",
        "\n",
        "train = train.drop(columns=[\"capital-gain\"])\n",
        "train = train.drop(columns=[\"capital-loss\"])\n",
        "\n",
        "\n",
        "test.loc[:, \"income\"] = test[\"income\"].str.rstrip('.')\n",
        "\n",
        "print(train.skew(numeric_only=True))\n",
        "print(test.skew(numeric_only=True))\n"
      ]
    },
    {
      "cell_type": "markdown",
      "metadata": {
        "id": "i1nxRqTsGz7h"
      },
      "source": [
        "# Encoding\n",
        "Now, we must encode the data in order for the classification model to work. Data needs to be in an 'int/float' format. We are going to use the LabelEncoder provided by sklearn. \n"
      ]
    },
    {
      "cell_type": "code",
      "execution_count": 81,
      "metadata": {
        "colab": {
          "base_uri": "https://localhost:8080/"
        },
        "id": "9TQ8t09OGztu",
        "outputId": "d1e68653-a9fd-488f-d5ae-be618d5536da"
      },
      "outputs": [
        {
          "name": "stdout",
          "output_type": "stream",
          "text": [
            "   age  workclass  fnlwgt  education  education-num  marital-status  \\\n",
            "0   25          3  226802          1              6               4   \n",
            "1   38          3   89814         11              8               2   \n",
            "2   28          1  336951          7             11               2   \n",
            "3   44          3  160323         15              9               2   \n",
            "4   18          3  103497         15              9               4   \n",
            "\n",
            "   occupation  relationship  race  sex  hours-per-week  native-country income  \n",
            "0           6             3     2    1              40              38  <=50K  \n",
            "1           4             0     4    1              50              38  <=50K  \n",
            "2          11             0     4    1              40              38   >50K  \n",
            "3           6             0     2    1              40              38   >50K  \n",
            "4           9             3     4    0              30              38  <=50K  \n",
            "       age  workclass  fnlwgt  education  education-num  marital-status  \\\n",
            "39074   39          3  176296         11              8               2   \n",
            "39075   19          3   93518         15              9               4   \n",
            "39076   25          3  126797         11              8               3   \n",
            "39077   57          5   25124         11              8               2   \n",
            "39078   21          3  112137         15              9               4   \n",
            "\n",
            "       occupation  relationship  race  sex  hours-per-week  native-country  \\\n",
            "39074          14             0     2    1              40              37   \n",
            "39075          12             3     4    0              20              37   \n",
            "39076           9             1     4    1              40              37   \n",
            "39077           7             0     4    1              60              37   \n",
            "39078          10             2     1    0              20              33   \n",
            "\n",
            "      income  \n",
            "39074   >50K  \n",
            "39075  <=50K  \n",
            "39076  <=50K  \n",
            "39077  <=50K  \n",
            "39078  <=50K  \n"
          ]
        }
      ],
      "source": [
        "from sklearn.preprocessing import LabelEncoder, StandardScaler\n",
        "\n",
        "le = LabelEncoder()\n",
        "\n",
        "train[\"workclass\"] = le.fit_transform(train[\"workclass\"])\n",
        "train[\"education\"] = le.fit_transform(train[\"education\"])\n",
        "train[\"education-num\"] = le.fit_transform(train[\"education-num\"])\n",
        "train[\"marital-status\"] = le.fit_transform(train[\"marital-status\"])\n",
        "train[\"occupation\"] = le.fit_transform(train[\"occupation\"])\n",
        "train[\"relationship\"] = le.fit_transform(train[\"relationship\"])\n",
        "train[\"race\"] = le.fit_transform(train[\"race\"])\n",
        "train[\"sex\"] = le.fit_transform(train[\"sex\"])\n",
        "\n",
        "train[\"native-country\"] = le.fit_transform(train[\"native-country\"])\n",
        "test[\"workclass\"] = le.fit_transform(test[\"workclass\"])\n",
        "test[\"education\"] = le.fit_transform(test[\"education\"])\n",
        "test[\"education-num\"] = le.fit_transform(test[\"education-num\"])\n",
        "test[\"marital-status\"] = le.fit_transform(test[\"marital-status\"])\n",
        "test[\"occupation\"] = le.fit_transform(test[\"occupation\"])\n",
        "test[\"relationship\"] = le.fit_transform(test[\"relationship\"])\n",
        "test[\"race\"] = le.fit_transform(test[\"race\"])\n",
        "test[\"sex\"] = le.fit_transform(test[\"sex\"])\n",
        "test[\"native-country\"] = le.fit_transform(test[\"native-country\"])\n",
        "\n",
        "print(train.head())\n",
        "print(test.head())\n"
      ]
    },
    {
      "cell_type": "markdown",
      "metadata": {
        "id": "pwDmluwZIXSo"
      },
      "source": [
        "# Scaling\n",
        "Now, we are going to prepare our train and test sets to use in the model. We use StandardScaler to transform the data such that the mean is 0 and the standard deviation is 1. This is important as our data ranges greatly with each feature. It will help our model learn better.\n",
        "\n"
      ]
    },
    {
      "cell_type": "code",
      "execution_count": 82,
      "metadata": {
        "colab": {
          "base_uri": "https://localhost:8080/"
        },
        "id": "nimDkrduIXa7",
        "outputId": "681ca481-ce2d-4461-c61e-a50792d359da"
      },
      "outputs": [
        {
          "name": "stdout",
          "output_type": "stream",
          "text": [
            "            age  workclass    fnlwgt  education  education-num  \\\n",
            "0     -0.994791  -0.088741  0.353866  -2.402897      -1.202330   \n",
            "1     -0.048466  -0.088741 -0.947357   0.182900      -0.421467   \n",
            "2     -0.776408  -1.883496  1.400151  -0.851419       0.749828   \n",
            "3      0.388300  -0.088741 -0.277605   1.217219      -0.031035   \n",
            "4     -1.504351  -0.088741 -0.817385   1.217219      -0.031035   \n",
            "...         ...        ...       ...        ...            ...   \n",
            "39069 -1.285968  -0.088741 -0.436416   1.217219      -0.031035   \n",
            "39070 -0.266848  -0.088741 -0.144764   1.217219      -0.031035   \n",
            "39071 -0.558025   1.706014 -0.256442  -2.144317      -0.811899   \n",
            "39072  0.024329   0.808636  1.738062   0.441479       1.530691   \n",
            "39073 -0.630820  -0.088741 -1.086486  -0.334260       1.140259   \n",
            "\n",
            "       marital-status  occupation  relationship      race       sex  \\\n",
            "0            0.914849   -0.112977      0.971667 -1.978313  0.704638   \n",
            "1           -0.410260   -0.571814     -0.902008  0.390945  0.704638   \n",
            "2           -0.410260    1.034115     -0.902008  0.390945  0.704638   \n",
            "3           -0.410260   -0.112977     -0.902008 -1.978313  0.704638   \n",
            "4            0.914849    0.575278      0.971667  0.390945 -1.419168   \n",
            "...               ...         ...           ...       ...       ...   \n",
            "39069        0.914849    0.116441      0.971667  0.390945 -1.419168   \n",
            "39070        0.914849    1.722371      0.971667  0.390945  0.704638   \n",
            "39071       -0.410260    1.263534      2.220783 -3.162942 -1.419168   \n",
            "39072       -0.410260   -0.801233     -0.902008  0.390945  0.704638   \n",
            "39073       -0.410260   -0.801233     -0.902008  0.390945  0.704638   \n",
            "\n",
            "       hours-per-week  native-country  \n",
            "0           -0.032576        0.259123  \n",
            "1            0.776160        0.259123  \n",
            "2           -0.032576        0.259123  \n",
            "3           -0.032576        0.259123  \n",
            "4           -0.841312        0.259123  \n",
            "...               ...             ...  \n",
            "39069       -0.922185        0.259123  \n",
            "39070       -0.032576        0.259123  \n",
            "39071        0.776160        0.259123  \n",
            "39072        1.584896        0.259123  \n",
            "39073        1.180528        0.259123  \n",
            "\n",
            "[39074 rows x 12 columns]\n",
            "           age  workclass    fnlwgt  education  education-num  marital-status  \\\n",
            "0     0.032734  -0.093744 -0.129390   0.186679      -0.411023       -0.410953   \n",
            "1    -1.437687  -0.093744 -0.903753   1.211540      -0.027778        0.921336   \n",
            "2    -0.996561  -0.093744 -0.592438   0.186679      -0.411023        0.255192   \n",
            "3     1.356112   1.730348 -1.543557   0.186679      -0.411023       -0.410953   \n",
            "4    -1.290645  -0.093744 -0.729578   1.211540      -0.027778        0.921336   \n",
            "...        ...        ...       ...        ...            ...             ...   \n",
            "9763 -0.849519  -0.093744  0.628395  -0.838182       0.738712       -0.410953   \n",
            "9764  0.106255  -0.093744 -0.334464   0.186679      -0.411023       -0.410953   \n",
            "9765  1.429634  -0.093744 -0.357514   0.186679      -0.411023        2.253624   \n",
            "9766 -1.217124  -0.093744  0.106292   0.186679      -0.411023        0.921336   \n",
            "9767  0.988507   0.818302  0.914883   0.186679      -0.411023       -0.410953   \n",
            "\n",
            "      occupation  relationship      race       sex  hours-per-week  \\\n",
            "0       1.737169     -0.896248 -1.945947  0.702551       -0.040071   \n",
            "1       1.275198      0.971589  0.398116 -1.423384       -1.640606   \n",
            "2       0.582241     -0.273636  0.398116  0.702551       -0.040071   \n",
            "3       0.120270     -0.896248  0.398116  0.702551        1.560464   \n",
            "4       0.813226      0.348976 -3.117978 -1.423384       -1.640606   \n",
            "...          ...           ...       ...       ...             ...   \n",
            "9763    1.506183      2.216813  0.398116 -1.423384       -0.200124   \n",
            "9764   -0.110716     -0.896248  0.398116  0.702551       -0.040071   \n",
            "9765   -1.496630      1.594201  0.398116 -1.423384       -0.040071   \n",
            "9766   -1.496630      0.971589  0.398116  0.702551       -1.640606   \n",
            "9767   -0.803673      2.216813  0.398116 -1.423384       -0.040071   \n",
            "\n",
            "      native-country  \n",
            "0           0.263549  \n",
            "1           0.263549  \n",
            "2           0.263549  \n",
            "3           0.263549  \n",
            "4          -0.423585  \n",
            "...              ...  \n",
            "9763        0.263549  \n",
            "9764        0.263549  \n",
            "9765        0.263549  \n",
            "9766        0.263549  \n",
            "9767        0.263549  \n",
            "\n",
            "[9768 rows x 12 columns]\n"
          ]
        }
      ],
      "source": [
        "from sklearn.preprocessing import StandardScaler\n",
        "sc = StandardScaler()\n",
        "\n",
        "train_x = train.drop(\"income\", axis = 'columns')\n",
        "train_y = train['income']\n",
        "\n",
        "test_x = test.drop(\"income\", axis = 'columns')\n",
        "test_y = test['income']\n",
        "\n",
        "train_set = sc.fit_transform(train_x)\n",
        "test_set = sc.fit_transform(test_x)\n",
        "\n",
        "x_train = pd.DataFrame(train_set, columns=train_x.columns)\n",
        "x_test = pd.DataFrame(test_set, columns=test_x.columns)\n",
        "\n",
        "print(x_train)\n",
        "print(x_test)"
      ]
    },
    {
      "cell_type": "markdown",
      "metadata": {
        "id": "5WJib9LDOw59"
      },
      "source": [
        "# Training\n",
        "Now, we are going to actually train the model using the fit method. For this example, I decided to use a Gaussian Naive Bayes classifier as we talked a lot about it in class. I fit the training data x values with their corresponding y values. Afterwards, I used the test values to come up with predicted y values, and used the \"accuracy_score\" method to determine how accurate each prediction was on the test data, and the training"
      ]
    },
    {
      "cell_type": "code",
      "execution_count": 89,
      "metadata": {
        "colab": {
          "base_uri": "https://localhost:8080/"
        },
        "id": "Z123Nn9lOwq5",
        "outputId": "008045c5-7ed9-4546-d051-f899f87d9bd0"
      },
      "outputs": [
        {
          "name": "stdout",
          "output_type": "stream",
          "text": [
            "For Classifier = GaussianNB()\n",
            "Accuracy score for train data =  0.7776270665915954\n",
            "Accuracy score for test data =  0.7813267813267813\n",
            "ROC AUC Score =  0.755927338195168\n",
            "Classification Report:\n",
            "               precision    recall  f1-score   support\n",
            "\n",
            "       <=50K       0.89      0.81      0.85      7364\n",
            "        >50K       0.54      0.71      0.61      2404\n",
            "\n",
            "    accuracy                           0.78      9768\n",
            "   macro avg       0.72      0.76      0.73      9768\n",
            "weighted avg       0.81      0.78      0.79      9768\n",
            "\n",
            "Model Confusion Matrix:\n",
            " [[5935 1429]\n",
            " [ 707 1697]]\n",
            "\n",
            "\n",
            "\n",
            "For Classifier = LogisticRegression()\n",
            "Accuracy score for train data =  0.804703895173261\n",
            "Accuracy score for test data =  0.8055896805896806\n",
            "ROC AUC Score =  0.6704547508633538\n",
            "Classification Report:\n",
            "               precision    recall  f1-score   support\n",
            "\n",
            "       <=50K       0.83      0.94      0.88      7364\n",
            "        >50K       0.68      0.40      0.51      2404\n",
            "\n",
            "    accuracy                           0.81      9768\n",
            "   macro avg       0.75      0.67      0.69      9768\n",
            "weighted avg       0.79      0.81      0.79      9768\n",
            "\n",
            "Model Confusion Matrix:\n",
            " [[6897  467]\n",
            " [1432  972]]\n",
            "\n",
            "\n",
            "\n",
            "For Classifier = KNeighborsClassifier(n_neighbors=22)\n",
            "Accuracy score for train data =  0.8402518298612889\n",
            "Accuracy score for test data =  0.8298525798525799\n",
            "ROC AUC Score =  0.7337564768478391\n",
            "Classification Report:\n",
            "               precision    recall  f1-score   support\n",
            "\n",
            "       <=50K       0.86      0.92      0.89      7364\n",
            "        >50K       0.70      0.54      0.61      2404\n",
            "\n",
            "    accuracy                           0.83      9768\n",
            "   macro avg       0.78      0.73      0.75      9768\n",
            "weighted avg       0.82      0.83      0.82      9768\n",
            "\n",
            "Model Confusion Matrix:\n",
            " [[6797  567]\n",
            " [1095 1309]]\n",
            "\n",
            "\n",
            "\n"
          ]
        }
      ],
      "source": [
        "from sklearn.naive_bayes import GaussianNB\n",
        "from sklearn.linear_model import LogisticRegression\n",
        "from sklearn.neighbors import KNeighborsClassifier\n",
        "from sklearn.metrics import accuracy_score, classification_report, roc_auc_score, confusion_matrix\n",
        "\n",
        "mapped_y = test_y.map({'<=50K': 0, '>50K': 1})\n",
        "\n",
        "nb = GaussianNB()\n",
        "lr = LogisticRegression()\n",
        "kn = KNeighborsClassifier(22) # Default is 5\n",
        "\n",
        "classifiers = [nb, lr, kn]\n",
        "result_array = []\n",
        "\n",
        "def map_prediction(prediction): \n",
        "  if prediction == '<=50K':\n",
        "      return 0\n",
        "  elif prediction == '>50K':\n",
        "      return 1\n",
        "  else: \n",
        "      raise Exception(\"Something wrong with data\")\n",
        "  \n",
        "accuracy_scores = []\n",
        "\n",
        "for classifier in classifiers:\n",
        "  classifier.fit(x_train, train_y)\n",
        "  prediction = classifier.predict(x_test)\n",
        "\n",
        "  test_score = accuracy_score(test_y, prediction)\n",
        "  train_score = accuracy_score(train_y, classifier.predict(x_train))\n",
        "\n",
        "  mapped_prediction = []\n",
        "  for i, element in enumerate(prediction):\n",
        "    mapped_prediction.append(map_prediction(element))\n",
        "  accuracy_scores.append(test_score)\n",
        "  print(\"For Classifier = \" + str(classifier))\n",
        "  print(\"Accuracy score for train data = \", train_score)\n",
        "  print(\"Accuracy score for test data = \", test_score)\n",
        "  print(\"ROC AUC Score = \", roc_auc_score(test_y, mapped_prediction))\n",
        "  print(\"Classification Report:\\n\", classification_report(test_y, prediction))\n",
        "  print(\"Model Confusion Matrix:\\n\", confusion_matrix(test_y, prediction))\n",
        "  print(\"\\n\\n\")"
      ]
    },
    {
      "attachments": {},
      "cell_type": "markdown",
      "metadata": {},
      "source": [
        "# Cross Validation\n",
        "Here, we are performing ten fold cross validation to determine which K is the best value to try. "
      ]
    },
    {
      "cell_type": "code",
      "execution_count": 92,
      "metadata": {},
      "outputs": [
        {
          "data": {
            "image/png": "[encoded data removed]",
            "text/plain": [
              "<Figure size 640x480 with 1 Axes>"
            ]
          },
          "metadata": {},
          "output_type": "display_data"
        }
      ],
      "source": [
        "from sklearn.model_selection import cross_val_score\n",
        "\n",
        "# try k values from 1 to 30\n",
        "k_range = range(1, 31)\n",
        "k_scores = []\n",
        "\n",
        "# perform 10-fold cross-validation for each k value\n",
        "for k in k_range:\n",
        "    kn = KNeighborsClassifier(n_neighbors=k)\n",
        "    scores = cross_val_score(kn, x_train, train_y, cv=10, scoring='accuracy')\n",
        "    k_scores.append(scores.mean())\n",
        "\n",
        "# plot the accuracy for each k value\n",
        "import matplotlib.pyplot as plt\n",
        "\n",
        "plt.plot(k_range, k_scores)\n",
        "plt.xlabel('Value of K for KNN')\n",
        "plt.ylabel('Cross-Validated Accuracy')\n",
        "plt.show()\n"
      ]
    },
    {
      "cell_type": "code",
      "execution_count": 91,
      "metadata": {},
      "outputs": [
        {
          "data": {
            "image/png": "[encoded data removed]",
            "text/plain": [
              "<Figure size 640x480 with 1 Axes>"
            ]
          },
          "metadata": {},
          "output_type": "display_data"
        }
      ],
      "source": [
        "import matplotlib.pyplot as plt\n",
        "\n",
        "models = ['Gaussian Naive Bayes', 'Logistic Regression', 'K-Nearest Neighbors']\n",
        "\n",
        "plt.bar(models, accuracy_scores, color ='maroon', width = 0.4)\n",
        "\n",
        "plt.ylim([0.7, 0.9])\n",
        "plt.xlabel(\"Model\")\n",
        "plt.ylabel(\"Accuracy\")\n",
        "plt.title(\"Accuracy for Different Models\")\n",
        "\n",
        "plt.show()"
      ]
    },
    {
      "cell_type": "markdown",
      "metadata": {
        "id": "LzqWkYUha4ws"
      },
      "source": [
        "# Conclusion\n",
        "To conclude, it seems that our accuracy score for the training and test data is around 82%. Our classification report shows precision, recall, and f1-score for salaries greater than 50k and less than or equal to 50k. Overall, I would say the classifier worked pretty well. \n"
      ]
    },
    {
      "cell_type": "markdown",
      "metadata": {
        "id": "yfajH7uDbQER"
      },
      "source": [
        "# Improvements to be made. \n",
        "I think there are many improvements that could be made in order to improve the accuracy and also simplify the features.\n",
        "\n",
        "*   Combine similar features. I think it would be very beneficial to combine features like \"education\" and \"education-num\", \"marital-status\" and \"relationship\" and others. This would make the input data a lot simpler, and also allow for an easier set up to input \n",
        "\n",
        "*   Try different classifiers provided by SciKit. Right now, all I have used is Naive-Bayes but there are many different classifiers that can be used. \n",
        "\n",
        "*   Find outliers and handle accordingly. \n",
        "\n",
        "*   Use graphs/maps to display data for easier consumption. \n",
        "\n",
        "*   Hyperparameter optimization. I have not attempted any hyperparemeter tuning yet but plan to in the near future. \n",
        "\n"
      ]
    }
  ],
  "metadata": {
    "colab": {
      "provenance": []
    },
    "kernelspec": {
      "display_name": "Python 3",
      "name": "python3"
    },
    "language_info": {
      "codemirror_mode": {
        "name": "ipython",
        "version": 3
      },
      "file_extension": ".py",
      "mimetype": "text/x-python",
      "name": "python",
      "nbconvert_exporter": "python",
      "pygments_lexer": "ipython3",
      "version": "3.11.2"
    }
  },
  "nbformat": 4,
  "nbformat_minor": 0
}
